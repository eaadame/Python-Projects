{
 "cells": [
  {
   "cell_type": "code",
   "execution_count": 69,
   "id": "e0c283c5",
   "metadata": {},
   "outputs": [],
   "source": [
    "# importing the standard libraries\n",
    "import numpy as np\n",
    "import pandas as pd\n",
    "\n",
    "# step 1\n",
    "from keras.datasets import mnist\n",
    "\n",
    "# step 2\n",
    "import matplotlib.pyplot as plt\n",
    "\n",
    "# step 3\n",
    "from keras.models import Sequential\n",
    "from keras.layers import Dense, Dropout, Flatten\n",
    "from keras.layers.convolutional import Conv2D, MaxPooling2D\n",
    "from keras.utils import np_utils\n",
    "from keras import backend as K\n",
    "\n",
    "# step 5\n",
    "from sklearn.metrics import confusion_matrix\n",
    "import seaborn as sns"
   ]
  },
  {
   "cell_type": "markdown",
   "id": "0cb37626",
   "metadata": {},
   "source": [
    "### 1. Loading the MNIST dataset."
   ]
  },
  {
   "cell_type": "code",
   "execution_count": 2,
   "id": "e398a79e",
   "metadata": {},
   "outputs": [],
   "source": [
    "# loading the MNIST dataset\n",
    "(train_x, train_y), (test_x, test_y) = mnist.load_data()"
   ]
  },
  {
   "cell_type": "code",
   "execution_count": 3,
   "id": "e4332ed6",
   "metadata": {},
   "outputs": [
    {
     "name": "stdout",
     "output_type": "stream",
     "text": [
      "train_x shape: (60000, 28, 28)\n",
      "train_y shape: (60000,)\n",
      "test_x shape: (10000, 28, 28)\n",
      "test_y shape: (10000,)\n"
     ]
    }
   ],
   "source": [
    "# checking the test and training vectors\n",
    "print('train_x shape: ' +str(train_x.shape))\n",
    "print('train_y shape: ' +str(train_y.shape))\n",
    "print('test_x shape: ' +str(test_x.shape))\n",
    "print('test_y shape: ' +str(test_y.shape))"
   ]
  },
  {
   "cell_type": "markdown",
   "id": "f25f94d2",
   "metadata": {},
   "source": [
    "### 2. Displaying the first five images in the training data set."
   ]
  },
  {
   "cell_type": "code",
   "execution_count": 5,
   "id": "a8056908",
   "metadata": {},
   "outputs": [
    {
     "data": {
      "image/png": "[encoded data removed]",
      "text/plain": [
       "<Figure size 360x360 with 5 Axes>"
      ]
     },
     "metadata": {
      "needs_background": "light"
     },
     "output_type": "display_data"
    }
   ],
   "source": [
    "# setting the plot height and width\n",
    "f = plt.figure()\n",
    "f.set_figwidth(5)\n",
    "f.set_figheight(5)\n",
    "\n",
    "# displaying the images and associated labels\n",
    "for i in range(5):\n",
    "    plt.subplot(330 + 1 + i)\n",
    "    plt.imshow(train_x[i], cmap=plt.get_cmap('gray'))\n",
    "    plt.title(train_y[i])\n",
    "plt.tight_layout()\n",
    "plt.show()"
   ]
  },
  {
   "cell_type": "markdown",
   "id": "c9f4b8a7",
   "metadata": {},
   "source": [
    "### 3. Building and training a Keras CNN classifier on the training set."
   ]
  },
  {
   "cell_type": "code",
   "execution_count": 6,
   "id": "8d27afb3",
   "metadata": {},
   "outputs": [],
   "source": [
    "# ensuring the color channel value will be last\n",
    "K.set_image_data_format(\"channels_last\")"
   ]
  },
  {
   "cell_type": "code",
   "execution_count": 7,
   "id": "0058407d",
   "metadata": {},
   "outputs": [],
   "source": [
    "# set seed \n",
    "np.random.seed(0)"
   ]
  },
  {
   "cell_type": "code",
   "execution_count": 8,
   "id": "98a8f167",
   "metadata": {},
   "outputs": [],
   "source": [
    "# setting the image information\n",
    "height = 28\n",
    "width = 28\n",
    "channels = 1"
   ]
  },
  {
   "cell_type": "code",
   "execution_count": 23,
   "id": "5dba1085",
   "metadata": {},
   "outputs": [],
   "source": [
    "# reshaping the training image data into the features set\n",
    "train_features = train_x.reshape(train_x.shape[0], height, width, channels)"
   ]
  },
  {
   "cell_type": "code",
   "execution_count": 24,
   "id": "277cc3dc",
   "metadata": {},
   "outputs": [],
   "source": [
    "# reshaping the test image data into features\n",
    "test_features = test_x.reshape(test_x.shape[0], height, width, channels)"
   ]
  },
  {
   "cell_type": "code",
   "execution_count": 25,
   "id": "2d6c0617",
   "metadata": {},
   "outputs": [],
   "source": [
    "# rescaling the pixel intensity\n",
    "features_train = train_features / 255\n",
    "features_test = test_features / 255"
   ]
  },
  {
   "cell_type": "code",
   "execution_count": 26,
   "id": "cb5f3ac7",
   "metadata": {},
   "outputs": [],
   "source": [
    "# one-hot encoding the target\n",
    "train_target = np_utils.to_categorical(train_y) \n",
    "test_target = np_utils.to_categorical(test_y)\n",
    "number_of_classes = test_target.shape[1]"
   ]
  },
  {
   "cell_type": "code",
   "execution_count": 27,
   "id": "0fc27cc1",
   "metadata": {},
   "outputs": [],
   "source": [
    "# starting the neural network\n",
    "network = Sequential()"
   ]
  },
  {
   "cell_type": "code",
   "execution_count": 28,
   "id": "96250433",
   "metadata": {},
   "outputs": [],
   "source": [
    "# adding the convolutional layer\n",
    "network.add(Conv2D(filters=64, \n",
    "                  kernel_size=(5,5),\n",
    "                  input_shape=(height, width, channels), \n",
    "                  activation='relu'))"
   ]
  },
  {
   "cell_type": "code",
   "execution_count": 29,
   "id": "fd9bb9de",
   "metadata": {},
   "outputs": [],
   "source": [
    "# adding the max pooling layer with a 2x2 window\n",
    "network.add(MaxPooling2D(pool_size=(2,2)))"
   ]
  },
  {
   "cell_type": "code",
   "execution_count": 30,
   "id": "3bd650e0",
   "metadata": {},
   "outputs": [],
   "source": [
    "# adding the dropout layer\n",
    "network.add(Dropout(0.5))"
   ]
  },
  {
   "cell_type": "code",
   "execution_count": 31,
   "id": "6e7e2be3",
   "metadata": {},
   "outputs": [],
   "source": [
    "# adding the layer to flatten input\n",
    "network.add(Flatten())"
   ]
  },
  {
   "cell_type": "code",
   "execution_count": 32,
   "id": "2242acec",
   "metadata": {},
   "outputs": [],
   "source": [
    "# adding a fully connected layer\n",
    "network.add(Dense(128, activation='relu'))"
   ]
  },
  {
   "cell_type": "code",
   "execution_count": 33,
   "id": "f16f797a",
   "metadata": {},
   "outputs": [],
   "source": [
    "# adding a dropout layer\n",
    "network.add(Dropout(0.5))"
   ]
  },
  {
   "cell_type": "code",
   "execution_count": 34,
   "id": "3260cbf4",
   "metadata": {},
   "outputs": [],
   "source": [
    "# adding a fully connected layer with softmax activation function\n",
    "network.add(Dense(number_of_classes, activation='softmax'))"
   ]
  },
  {
   "cell_type": "code",
   "execution_count": 35,
   "id": "6cbac538",
   "metadata": {},
   "outputs": [],
   "source": [
    "# compiling the neural network\n",
    "network.compile(loss=\"categorical_crossentropy\",\n",
    "               optimizer=\"rmsprop\",\n",
    "               metrics=[\"accuracy\"])"
   ]
  },
  {
   "cell_type": "code",
   "execution_count": 37,
   "id": "3eeb998f",
   "metadata": {},
   "outputs": [],
   "source": [
    "# training the neural network\n",
    "NN = network.fit(features_train, train_target, \n",
    "                 epochs=2,verbose=0,batch_size=1000,\n",
    "                 validation_data=(features_test, test_target))"
   ]
  },
  {
   "cell_type": "markdown",
   "id": "f5f2c41f",
   "metadata": {},
   "source": [
    "### 4. Reporting the accuracy of the model."
   ]
  },
  {
   "cell_type": "code",
   "execution_count": 51,
   "id": "92d12f5e",
   "metadata": {},
   "outputs": [
    {
     "data": {
      "text/plain": [
       "[0.9775000214576721, 0.9811999797821045]"
      ]
     },
     "execution_count": 51,
     "metadata": {},
     "output_type": "execute_result"
    }
   ],
   "source": [
    "# determining the accuracy of the model\n",
    "Accuracy = NN.history['val_accuracy']\n",
    "Accuracy"
   ]
  },
  {
   "cell_type": "markdown",
   "id": "4aa23416",
   "metadata": {},
   "source": [
    "### 5. Displaying a confusion matrix on the test set classifications."
   ]
  },
  {
   "cell_type": "code",
   "execution_count": 56,
   "id": "409d4cd5",
   "metadata": {},
   "outputs": [
    {
     "name": "stdout",
     "output_type": "stream",
     "text": [
      "313/313 [==============================] - 3s 9ms/step\n"
     ]
    },
    {
     "data": {
      "text/plain": [
       "array([[0., 0., 0., ..., 1., 0., 0.],\n",
       "       [0., 0., 1., ..., 0., 0., 0.],\n",
       "       [0., 1., 0., ..., 0., 0., 0.],\n",
       "       ...,\n",
       "       [0., 0., 0., ..., 0., 0., 0.],\n",
       "       [0., 0., 0., ..., 0., 0., 0.],\n",
       "       [0., 0., 0., ..., 0., 0., 0.]], dtype=float32)"
      ]
     },
     "execution_count": 56,
     "metadata": {},
     "output_type": "execute_result"
    }
   ],
   "source": [
    "# creating the predictions to help generate the confusion matrix\n",
    "predictions = network.predict(test_x)\n",
    "predictions"
   ]
  },
  {
   "cell_type": "code",
   "execution_count": 64,
   "id": "eabf180e",
   "metadata": {},
   "outputs": [
    {
     "data": {
      "text/plain": [
       "array([[ 970,    0,    1,    0,    0,    0,    3,    1,    5,    0],\n",
       "       [   0, 1108,    2,    1,    0,    0,    3,    0,   21,    0],\n",
       "       [   2,    0, 1000,    0,    2,    0,    1,    6,   21,    0],\n",
       "       [   0,    0,    3,  984,    0,    2,    0,    2,   19,    0],\n",
       "       [   1,    0,    4,    0,  959,    0,    4,    0,    4,   10],\n",
       "       [   2,    0,    0,    4,    0,  857,    5,    1,   22,    1],\n",
       "       [   7,    2,    0,    0,    2,    1,  936,    0,   10,    0],\n",
       "       [   1,    0,   15,    3,    0,    0,    0,  981,   11,   17],\n",
       "       [   2,    0,    0,    1,    1,    0,    0,    0,  969,    1],\n",
       "       [   5,    3,    0,    4,    3,    0,    0,    2,   19,  973]],\n",
       "      dtype=int64)"
      ]
     },
     "execution_count": 64,
     "metadata": {},
     "output_type": "execute_result"
    }
   ],
   "source": [
    "# creating the confusion matrix\n",
    "matrix = confusion_matrix(test_target.argmax(axis=1), predictions.argmax(axis=1))\n",
    "matrix"
   ]
  },
  {
   "cell_type": "code",
   "execution_count": 77,
   "id": "135d7f1f",
   "metadata": {},
   "outputs": [
    {
     "data": {
      "text/plain": [
       "Text(0.5, 15.0, 'True Values')"
      ]
     },
     "execution_count": 77,
     "metadata": {},
     "output_type": "execute_result"
    },
    {
     "data": {
      "image/png": "[encoded data removed]",
      "text/plain": [
       "<Figure size 432x288 with 2 Axes>"
      ]
     },
     "metadata": {
      "needs_background": "light"
     },
     "output_type": "display_data"
    }
   ],
   "source": [
    "pretty_matrix = sns.heatmap(matrix, fmt=\"d\", annot=True)\n",
    "pretty_matrix.set_ylabel(\"Predicted Values\")\n",
    "pretty_matrix.set_xlabel(\"True Values\")"
   ]
  },
  {
   "cell_type": "markdown",
   "id": "372409e8",
   "metadata": {},
   "source": [
    "### 6. Summarizing the findings. "
   ]
  },
  {
   "cell_type": "markdown",
   "id": "ec1286e9",
   "metadata": {},
   "source": [
    "The accuracy of the neural network model came to be 98% accurate. The confusion matrix showed that the worst predictions were for values thought to be the value 8. The model predicted wrong for value 8 the highest amount of times. Value 5 had the least amount of wrong predictions while value 2 came in close second. "
   ]
  }
 ],
 "metadata": {
  "kernelspec": {
   "display_name": "Python 3",
   "language": "python",
   "name": "python3"
  },
  "language_info": {
   "codemirror_mode": {
    "name": "ipython",
    "version": 3
   },
   "file_extension": ".py",
   "mimetype": "text/x-python",
   "name": "python",
   "nbconvert_exporter": "python",
   "pygments_lexer": "ipython3",
   "version": "3.8.8"
  }
 },
 "nbformat": 4,
 "nbformat_minor": 5
}
